{
 "cells": [
  {
   "cell_type": "code",
   "execution_count": 1,
   "id": "7c3b7b57-4b23-4122-82c2-91cdd8b3082f",
   "metadata": {},
   "outputs": [],
   "source": [
    "\"\"\"\n",
    "This file contains two algorithms for estimating the determinant of a matrix. \n",
    "- The first is a recursive algorithm that uses the cofactor technique\n",
    "- The second uses the guassian elimination approach\n",
    "Central to both is the existence of a square matrix. Hence a dedicated function was created to check that the argument is a square matrix\n",
    "\"\"\""
   ]
  },
  {
   "cell_type": "code",
   "execution_count": 31,
   "id": "15bd9e8a-d983-42b5-8015-0b4658feadad",
   "metadata": {},
   "outputs": [],
   "source": [
    "\"\"\"\n",
    "Ensure that argument is a square matrix\n",
    "\"\"\"\n",
    "def is_square_matrix(matrix):\n",
    "    num_rows = len(matrix);\n",
    "\n",
    "    # Check that matrix provided is a square matrix\n",
    "    for row in matrix:\n",
    "        if len(row) != num_rows:\n",
    "            print(f\"Invalix matrix: Argument must be a square matrix\")\n",
    "            return False;\n",
    "    return True;"
   ]
  },
  {
   "cell_type": "code",
   "execution_count": 37,
   "id": "67253c1b-b3be-4868-b02a-96b551dce1bd",
   "metadata": {},
   "outputs": [],
   "source": [
    "\"\"\"\n",
    "Co-factor approach\n",
    "Space complexity not optimal due to deepcopy\n",
    "\"\"\"\n",
    "from copy import deepcopy\n",
    "\n",
    "def smaller_matrix(original_matrix, row, col):\n",
    "    # The new matrix should not affect original matrix\n",
    "    new_matrix = deepcopy(original_matrix)\n",
    "    #Remove the row\n",
    "    new_matrix.remove(original_matrix[row])\n",
    "    # Remove the column\n",
    "    for i in range(len(new_matrix)):\n",
    "        new_matrix[i].pop(col)\n",
    "    return new_matrix\n",
    "\n",
    "def get_determinant(matrix):\n",
    "    # Base case\n",
    "    if len(matrix) == 2:\n",
    "        base_determinant = matrix[0][0] * matrix[1][1] - matrix[1][0] * matrix[0][1]\n",
    "        return base_determinant;\n",
    "        \n",
    "    else:\n",
    "        # Cofactor expansion\n",
    "        answer = 0;\n",
    "        num_rows = len(matrix)\n",
    "        num_cols = num_rows\n",
    "        for j in range(num_cols):\n",
    "            cofactor = (-1)**j * matrix[0][j] * get_determinant(smaller_matrix(matrix, 0 ,j))\n",
    "            answer += cofactor\n",
    "        return answer\n",
    "def determinant(matrix):\n",
    "    if not is_square_matrix(matrix):\n",
    "        return None\n",
    "\n",
    "    result = get_determinant(matrix)\n",
    "    return result;"
   ]
  },
  {
   "cell_type": "code",
   "execution_count": 39,
   "id": "e9d8d65a-146c-4afe-8d32-a5a679a84be3",
   "metadata": {},
   "outputs": [
    {
     "name": "stdout",
     "output_type": "stream",
     "text": [
      "Invalix matrix: Argument must be a square matrix\n",
      "None\n",
      "-19\n",
      "681\n",
      "327\n",
      "-3\n",
      "-2\n"
     ]
    }
   ],
   "source": [
    "matrix_a = [[9, 7], [8], [6, 2]]\n",
    "matrix_b = [[2, 3], [7, 1]]\n",
    "matrix_c = [[2, 3, 7, 1], [7, 1, 9, 8], [8, 6, 1, 4], [0, 1, 4, 2]]\n",
    "matrix_d = [[2, 3, 7], [7, 1, 9], [8, 6, 1]]\n",
    "print(determinant(matrix_a))\n",
    "print(determinant(matrix_b))\n",
    "print(determinant(matrix_c))\n",
    "print(determinant(matrix_d))\n",
    "print(determinant([[1, 2, 3], [1, 0, 2], [0, 1, 2]]))\n",
    "print(determinant([[1, 2, 3], [1, 0, 1], [0, 1, 2]]))"
   ]
  },
  {
   "cell_type": "code",
   "execution_count": 97,
   "id": "2018f3f9-667c-47dc-9d33-a591e573abcc",
   "metadata": {},
   "outputs": [],
   "source": [
    "\"\"\"\n",
    "Guassian elimination approach\n",
    "\"\"\"\n",
    "import numpy as np\n",
    "\n",
    "def determinant(matrix):\n",
    "    if not is_square_matrix(matrix):\n",
    "        return None\n",
    "\n",
    "    matrix = np.array(matrix).astype(float)\n",
    "    rows = len(matrix)\n",
    "    cols = len(matrix[0])\n",
    "    # Forward Elimination\n",
    "    for i in range(rows):\n",
    "        pivot = matrix[i][i];\n",
    "        # If any of the pivot is zero, then the determinant is 0\n",
    "        if pivot == 0:\n",
    "            print(\"Division by 0\")\n",
    "            return 0;\n",
    "        \n",
    "        for j in range(i + 1, cols):\n",
    "            factor = matrix[j][i] / pivot\n",
    "            matrix[j] = matrix[j] - factor * matrix[i]\n",
    "\n",
    "    result = 1\n",
    "    for i in range(rows):\n",
    "        result = result * matrix[i][i]\n",
    "    return result;"
   ]
  },
  {
   "cell_type": "code",
   "execution_count": 99,
   "id": "d8d3ea34-7b8e-4e2c-b48a-5efb360aed96",
   "metadata": {},
   "outputs": [
    {
     "name": "stdout",
     "output_type": "stream",
     "text": [
      "Invalix matrix: Argument must be a square matrix\n",
      "None\n",
      "-19.0\n",
      "681.0\n",
      "327.0\n",
      "Division by 0\n",
      "0\n",
      "-2.0\n"
     ]
    }
   ],
   "source": [
    "matrix_a = [[9, 7], [8], [6, 2]]\n",
    "matrix_b = [[2, 3], [7, 1]]\n",
    "matrix_c = [[2, 3, 7, 1], [7, 1, 9, 8], [8, 6, 1, 4], [0, 1, 4, 2]]\n",
    "matrix_d = [[2, 3, 7], [7, 1, 9], [8, 6, 1]]\n",
    "print(determinant(matrix_a))\n",
    "print(determinant(matrix_b))\n",
    "print(determinant(matrix_c))\n",
    "print(determinant(matrix_d))\n",
    "print(determinant([[1, 2, 3], [1, 2, 2], [0, 1, 2]]))\n",
    "print(determinant([[1, 2, 3], [1, 0, 1], [0, 1, 2]]))"
   ]
  },
  {
   "cell_type": "code",
   "execution_count": 101,
   "id": "7da5914c-131c-4f23-af10-e24ec9168c47",
   "metadata": {},
   "outputs": [],
   "source": [
    "\"\"\"\n",
    "Guassian elimination approach with partial pivoting\n",
    "\"\"\"\n",
    "import numpy as np\n",
    "\n",
    "def determinant(matrix):\n",
    "    if not is_square_matrix(matrix):\n",
    "        return None\n",
    "\n",
    "    matrix = np.array(matrix).astype(float)\n",
    "    rows = len(matrix)\n",
    "    cols = len(matrix[0])\n",
    "    num_of_swaps = 0\n",
    "    # Forward Elimination\n",
    "    for i in range(rows):\n",
    "        for j in range(i + 1, cols):\n",
    "            # Partial Pivoting\n",
    "            if abs(matrix[i][i]) < abs(matrix[j][i]):\n",
    "                matrix[[j, i]] = matrix[[i, j]]\n",
    "                num_of_swaps += 1\n",
    "\n",
    "            # Check for 0 in pivot\n",
    "            if matrix[i][i] == 0:\n",
    "                return 0\n",
    "            factor = matrix[j][i] / matrix[i][i\n",
    "            matrix[j] = matrix[j] - factor * matrix[i]\n",
    "\n",
    "    result = 1\n",
    "    for i in range(rows):\n",
    "        result = result * matrix[i][i]\n",
    "    return result * (-1)**num_of_swaps;"
   ]
  },
  {
   "cell_type": "code",
   "execution_count": null,
   "id": "cf196dfb-ca2a-46af-8d99-964afdd94553",
   "metadata": {},
   "outputs": [],
   "source": []
  }
 ],
 "metadata": {
  "kernelspec": {
   "display_name": "Python 3 (ipykernel)",
   "language": "python",
   "name": "python3"
  },
  "language_info": {
   "codemirror_mode": {
    "name": "ipython",
    "version": 3
   },
   "file_extension": ".py",
   "mimetype": "text/x-python",
   "name": "python",
   "nbconvert_exporter": "python",
   "pygments_lexer": "ipython3",
   "version": "3.12.4"
  }
 },
 "nbformat": 4,
 "nbformat_minor": 5
}
