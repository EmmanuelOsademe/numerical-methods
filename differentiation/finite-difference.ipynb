{
 "cells": [
  {
   "cell_type": "code",
   "execution_count": 17,
   "id": "513b0db4-b7a2-4558-8558-ea5aa507886e",
   "metadata": {},
   "outputs": [],
   "source": [
    "import numpy as np"
   ]
  },
  {
   "cell_type": "code",
   "execution_count": 1,
   "id": "f4ed7009-4782-4098-8839-030881c83b8d",
   "metadata": {},
   "outputs": [],
   "source": [
    "def forward_difference(func, x, h):\n",
    "    \"\"\"\n",
    "    This function estimates the derivative of a function given a point of reference and an step value\n",
    "    Parameters:\n",
    "    -------------\n",
    "    :param func: The user-defined function, which needs to be entered as a string\n",
    "    :param x: The reference point\n",
    "    :h: The forward step\n",
    "\n",
    "    Returns:\n",
    "    ----------\n",
    "    :return: The estimated derivative\n",
    "    \"\"\"\n",
    "\n",
    "    def f(x):\n",
    "        return eval(func)\n",
    "\n",
    "    return (f(x + h) - f(x))/h"
   ]
  },
  {
   "cell_type": "code",
   "execution_count": 25,
   "id": "18c1f705-6c52-436e-97e1-b11cd46314b0",
   "metadata": {},
   "outputs": [
    {
     "name": "stdout",
     "output_type": "stream",
     "text": [
      "[4.049999999999994, 4.009999999999891, 4.000999999999699]\n",
      "[1.3260445603576265, 1.3155697900279817, 1.313167786610725, 1.31292670358496]\n"
     ]
    }
   ],
   "source": [
    "result = [forward_difference(\"x**2\", 2, h) for h in [0.05, 0.01, 0.001]]\n",
    "print(result)\n",
    "result = [forward_difference(\"np.exp(x) * np.sin(x)/x\", 0.5, h) for h in [0.05, 0.01, 0.001, 0.0001]]\n",
    "print(result)"
   ]
  },
  {
   "cell_type": "code",
   "execution_count": 21,
   "id": "d6069cdf-2f90-4402-a506-cc2619a2735a",
   "metadata": {},
   "outputs": [],
   "source": [
    "def backward_difference(func, x, h):\n",
    "    \"\"\"\n",
    "    This function estimates the derivative of a function given a point of reference and an step value using backward difference approximation\n",
    "    Parameters:\n",
    "    -------------\n",
    "    :param func: The user-defined function, which needs to be entered as a string\n",
    "    :param x: The reference point\n",
    "    :h: The forward step\n",
    "\n",
    "    Returns:\n",
    "    ----------\n",
    "    :return: The estimated derivative\n",
    "    \"\"\"\n",
    "\n",
    "    def f(x):\n",
    "        return eval(func)\n",
    "\n",
    "    return (f(x) - f(x - h))/h"
   ]
  },
  {
   "cell_type": "code",
   "execution_count": 27,
   "id": "168894cc-4941-47ff-af8c-0de7847a2540",
   "metadata": {},
   "outputs": [
    {
     "name": "stdout",
     "output_type": "stream",
     "text": [
      "[3.9500000000000046, 3.9899999999999824, 3.9989999999994197]\n",
      "[1.299263443438723, 1.3102103585010294, 1.3126318302250084, 1.312873107930379]\n"
     ]
    }
   ],
   "source": [
    "result = [backward_difference(\"x**2\", 2, h) for h in [0.05, 0.01, 0.001]]\n",
    "print(result)\n",
    "result = [backward_difference(\"np.exp(x) * np.sin(x)/x\", 0.5, h) for h in [0.05, 0.01, 0.001, 0.0001]]\n",
    "print(result)"
   ]
  },
  {
   "cell_type": "code",
   "execution_count": 29,
   "id": "43db01c2-861a-41f8-ad7f-f3a4c50f9d41",
   "metadata": {},
   "outputs": [],
   "source": [
    "def central_difference(func, x, h):\n",
    "    \"\"\"\n",
    "    This function estimates the derivative of a function given a point of reference and an step value using central difference approximation\n",
    "    Parameters:\n",
    "    -------------\n",
    "    :param func: The user-defined function, which needs to be entered as a string\n",
    "    :param x: The reference point\n",
    "    :h: The forward step\n",
    "\n",
    "    Returns:\n",
    "    ----------\n",
    "    :return: The estimated derivative\n",
    "    \"\"\"\n",
    "\n",
    "    def f(x):\n",
    "        return eval(func)\n",
    "\n",
    "    return (f(x + h) - f(x - h))/(2 * h)"
   ]
  },
  {
   "cell_type": "code",
   "execution_count": 31,
   "id": "80e40494-9240-4e83-816f-c5eff1b6a77d",
   "metadata": {},
   "outputs": [
    {
     "name": "stdout",
     "output_type": "stream",
     "text": [
      "[3.999999999999999, 3.999999999999937, 3.9999999999995595]\n",
      "[1.3126540018981747, 1.3128900742645055, 1.3128998084178667, 1.3128999057576696]\n"
     ]
    }
   ],
   "source": [
    "result = [central_difference(\"x**2\", 2, h) for h in [0.05, 0.01, 0.001]]\n",
    "print(result)\n",
    "result = [central_difference(\"np.exp(x) * np.sin(x)/x\", 0.5, h) for h in [0.05, 0.01, 0.001, 0.0001]]\n",
    "print(result)"
   ]
  }
 ],
 "metadata": {
  "kernelspec": {
   "display_name": "Python 3 (ipykernel)",
   "language": "python",
   "name": "python3"
  },
  "language_info": {
   "codemirror_mode": {
    "name": "ipython",
    "version": 3
   },
   "file_extension": ".py",
   "mimetype": "text/x-python",
   "name": "python",
   "nbconvert_exporter": "python",
   "pygments_lexer": "ipython3",
   "version": "3.12.4"
  }
 },
 "nbformat": 4,
 "nbformat_minor": 5
}
