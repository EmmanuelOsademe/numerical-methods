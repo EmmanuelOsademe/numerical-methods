{
 "cells": [
  {
   "cell_type": "code",
   "execution_count": 1,
   "id": "566dbf3c-9fc2-42b8-b12e-2380edd84df7",
   "metadata": {},
   "outputs": [],
   "source": [
    "import numpy as np"
   ]
  },
  {
   "cell_type": "code",
   "execution_count": 2,
   "id": "0aadcb61-5374-4942-9c42-56836a7178a6",
   "metadata": {},
   "outputs": [],
   "source": [
    "def divided_difference(X, Y, x):\n",
    "    \"\"\"\n",
    "    This function solves returns the result of an interpolation given the arrays of the dataset and the independent value\n",
    "    Parameters:\n",
    "    -------------\n",
    "    :param X: Array of the independent variable\n",
    "    :param Y: Array of the dependent variable\n",
    "    :param b: Value of the independent variable to interpolate for\n",
    "\n",
    "    Returns:\n",
    "    ----------\n",
    "    :return: The root of the function\n",
    "    \"\"\"\n",
    "    if len(X) != len(Y):\n",
    "        print(f\"The arrays of the dependent and independent variables must have equal lengths\")\n",
    "        return\n",
    "    # Convert both arrays into floating point numpy arrays to avoid round-off errors\n",
    "    X = np.array(X).astype(np.float64)\n",
    "    Y = np.array(Y).astype(np.float64)\n",
    "    \n",
    "    n = len(X)\n",
    "    \n",
    "    # Create divided difference table\n",
    "    ddt = np.zeros((n, n))\n",
    "\n",
    "    # Make the first column of the ddt the array of the dependent variables\n",
    "    ddt[:, 0] = Y\n",
    "    \n",
    "    # Computed divided difference table\n",
    "    for i in range(1, n):\n",
    "        for j in range(n - i):\n",
    "            num = ddt[j + 1][i-1] - ddt[j][i-1]\n",
    "            den = X[i + j] - X[j]\n",
    "            ddt[j][i] = num/den\n",
    "    \n",
    "    # Compute the result\n",
    "    res = 0\n",
    "    for i in range(n):\n",
    "        prod = 1\n",
    "        for j in range(i):\n",
    "            prod *= (x - X[j])\n",
    "        prod *= ddt[0][i]\n",
    "        res += prod\n",
    "    print(res)\n"
   ]
  },
  {
   "cell_type": "code",
   "execution_count": 3,
   "id": "c24d62a5-d3fa-4f15-8157-4c09f6f47727",
   "metadata": {},
   "outputs": [
    {
     "name": "stdout",
     "output_type": "stream",
     "text": [
      "4.375\n",
      "6.875\n"
     ]
    }
   ],
   "source": [
    "a = [1, 3, 7]\n",
    "b = [2, 6, 5]\n",
    "divided_difference(a, b, 2)\n",
    "divided_difference(a, b, 4)"
   ]
  },
  {
   "cell_type": "code",
   "execution_count": 4,
   "id": "229bdb46-209f-4196-894a-1361e7645826",
   "metadata": {},
   "outputs": [
    {
     "name": "stdout",
     "output_type": "stream",
     "text": [
      "-665.0\n"
     ]
    }
   ],
   "source": [
    "a = [0, 1, 2, 4, 5, 6]\n",
    "b = [1, 14, 15, 5, 6, 19]\n",
    "divided_difference(a, b, -6)"
   ]
  }
 ],
 "metadata": {
  "kernelspec": {
   "display_name": "Python 3 (ipykernel)",
   "language": "python",
   "name": "python3"
  },
  "language_info": {
   "codemirror_mode": {
    "name": "ipython",
    "version": 3
   },
   "file_extension": ".py",
   "mimetype": "text/x-python",
   "name": "python",
   "nbconvert_exporter": "python",
   "pygments_lexer": "ipython3",
   "version": "3.12.4"
  }
 },
 "nbformat": 4,
 "nbformat_minor": 5
}
