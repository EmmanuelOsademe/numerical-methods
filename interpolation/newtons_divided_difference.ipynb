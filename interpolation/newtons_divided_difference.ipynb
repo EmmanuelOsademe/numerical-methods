{
 "cells": [
  {
   "cell_type": "code",
   "execution_count": 1,
   "id": "566dbf3c-9fc2-42b8-b12e-2380edd84df7",
   "metadata": {},
   "outputs": [],
   "source": [
    "import numpy as np"
   ]
  },
  {
   "cell_type": "code",
   "execution_count": 141,
   "id": "0aadcb61-5374-4942-9c42-56836a7178a6",
   "metadata": {},
   "outputs": [],
   "source": [
    "def divided_difference(X, Y, x):\n",
    "    X = np.array(X).astype(np.float64)\n",
    "    Y = np.array(Y).astype(np.float64)\n",
    "    n = len(X)\n",
    "    # Create divided difference table\n",
    "    ddt = np.zeros((n, n))\n",
    "    ddt[:, 0] = Y\n",
    "    # Computed divided difference table\n",
    "    for i in range(1, n):\n",
    "        for j in range(n - i):\n",
    "            num = ddt[j + 1][i-1] - ddt[j][i-1]\n",
    "            den = X[i + j] - X[j]\n",
    "            ddt[j][i] = num/den\n",
    "    res = 0\n",
    "    prod = np.zeros(n)\n",
    "    for i in range(n - 1, 0, -1):\n",
    "        # prod[i] = (x - X[: i + 1]) * ddt[0][i]\n",
    "        print(x - X[: i + 1])\n",
    "        print(ddt[0][i])\n",
    "    print(ddt)\n",
    "    # print(prod)"
   ]
  },
  {
   "cell_type": "code",
   "execution_count": 143,
   "id": "c24d62a5-d3fa-4f15-8157-4c09f6f47727",
   "metadata": {},
   "outputs": [
    {
     "name": "stdout",
     "output_type": "stream",
     "text": [
      "[ 2.   1.   0.5 -1. ]\n",
      "-0.4444444444444445\n",
      "[2.  1.  0.5]\n",
      "0.6666666666666666\n",
      "[2. 1.]\n",
      "1.0\n",
      "[[ 1.          1.          0.66666667 -0.44444444]\n",
      " [ 2.          2.         -0.66666667  0.        ]\n",
      " [ 3.          0.66666667  0.          0.        ]\n",
      " [ 4.          0.          0.          0.        ]]\n"
     ]
    }
   ],
   "source": [
    "a = [1, 2, 2.5, 4]\n",
    "b = [1, 2, 3, 4]\n",
    "divided_difference(a, b, 3)"
   ]
  }
 ],
 "metadata": {
  "kernelspec": {
   "display_name": "Python 3 (ipykernel)",
   "language": "python",
   "name": "python3"
  },
  "language_info": {
   "codemirror_mode": {
    "name": "ipython",
    "version": 3
   },
   "file_extension": ".py",
   "mimetype": "text/x-python",
   "name": "python",
   "nbconvert_exporter": "python",
   "pygments_lexer": "ipython3",
   "version": "3.12.4"
  }
 },
 "nbformat": 4,
 "nbformat_minor": 5
}
