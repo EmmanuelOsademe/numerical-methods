{
 "cells": [
  {
   "cell_type": "code",
   "execution_count": 1,
   "id": "6a74f3f7-67ed-45fb-a0ee-aed3e6cdb942",
   "metadata": {},
   "outputs": [
    {
     "data": {
      "text/plain": [
       "0.325"
      ]
     },
     "execution_count": 1,
     "metadata": {},
     "output_type": "execute_result"
    }
   ],
   "source": [
    "def interpolate(x0, x1, x2, x):\n",
    "    l0 = ((x - x1) * (x - x2))/((x0 - x1) * (x0 - x2))\n",
    "    f0 = 1/x0;\n",
    "    l1 = ((x - x0) * (x - x2))/((x1 - x0) * (x1 - x2))\n",
    "    f1 = 1/x1;\n",
    "    l2 = ((x - x0) * (x - x1))/((x2 - x0) * (x2 - x1))\n",
    "    f2 = 1/x2;\n",
    "\n",
    "    return l0 * f0 + l1 * f1 + l2 * f2\n",
    "interpolate(2, 2.5, 4, 3)"
   ]
  },
  {
   "cell_type": "code",
   "execution_count": 21,
   "id": "16f72d38-d938-419f-996f-036d1dc86556",
   "metadata": {},
   "outputs": [
    {
     "ename": "IndentationError",
     "evalue": "unindent does not match any outer indentation level (<string>, line 12)",
     "output_type": "error",
     "traceback": [
      "\u001b[1;36m  File \u001b[1;32m<string>:12\u001b[1;36m\u001b[0m\n\u001b[1;33m    order = len(datapoints)\u001b[0m\n\u001b[1;37m                           ^\u001b[0m\n\u001b[1;31mIndentationError\u001b[0m\u001b[1;31m:\u001b[0m unindent does not match any outer indentation level\n"
     ]
    }
   ],
   "source": [
    "def legrange_interpolation(datapoints, x_val):\n",
    "     \"\"\"\n",
    "    This function returns the interpolated y_value for a given x value, given a number of datapoints where x and y values are known:\n",
    "    -------------\n",
    "    :param datapoints: A 2_D array of x known x_values and corresponding y_values\n",
    "    :param x_val: The x_value whose y_value is to be solved for\n",
    "\n",
    "    Returns:\n",
    "    ----------\n",
    "    :return: The result of the interpolation\n",
    "    \"\"\"\n",
    "    order = len(datapoints)\n",
    "    print(f\"Solving a legrange polynomial whose order is {order}.\")\n",
    "    result = 0;\n",
    "    for i in range(len(datapoints)):\n",
    "        x, y = datapoints[i];\n",
    "        numerator = 1\n",
    "        denominator = 1\n",
    "\n",
    "        for j in range(len(datapoints)):\n",
    "            if i == j:\n",
    "                continue\n",
    "            else:\n",
    "                numerator *= (x_val - datapoints[j][0])\n",
    "                denominator *= (x - datapoints[j][0])\n",
    "\n",
    "        result += (y * numerator/denominator)\n",
    "    print(f\"When x is {x_val}, y is {result}.\")\n",
    "    return result"
   ]
  },
  {
   "cell_type": "code",
   "execution_count": null,
   "id": "72f000c9-f693-40e9-b0ad-7887f4edccbf",
   "metadata": {},
   "outputs": [],
   "source": [
    "legrange_interpolation([[1, 0.7651977], [1.3, 0.630086], [1.6, 0.4554022], [1.9, 0.2818186], [2.2, 0.1103623]], 1.5)"
   ]
  },
  {
   "cell_type": "code",
   "execution_count": null,
   "id": "a1023b2f-6904-46e0-9a29-fa1b01301374",
   "metadata": {},
   "outputs": [],
   "source": [
    "legrange_interpolation([[2, 0.5], [2.5, 0.5], [4, 0.25]], 3)"
   ]
  },
  {
   "cell_type": "code",
   "execution_count": null,
   "id": "76a4053a-6945-404b-8973-508aee643b60",
   "metadata": {},
   "outputs": [],
   "source": [
    "legrange_interpolation([[2, 5], [3, 10]], 2.2)"
   ]
  },
  {
   "cell_type": "code",
   "execution_count": null,
   "id": "eeac00aa-e402-49ab-87f2-3ee002ed7233",
   "metadata": {},
   "outputs": [],
   "source": [
    "legrange_interpolation([[1, 4], [3, 8], [7, 10]], 2.5)"
   ]
  },
  {
   "cell_type": "code",
   "execution_count": null,
   "id": "16b54f67-2426-4f9f-bebe-fed86c07fa45",
   "metadata": {},
   "outputs": [],
   "source": [
    "legrange_interpolation([[1, 4], [2, 6], [4, 11], [5, 17]], 3)"
   ]
  }
 ],
 "metadata": {
  "kernelspec": {
   "display_name": "Python 3 (ipykernel)",
   "language": "python",
   "name": "python3"
  },
  "language_info": {
   "codemirror_mode": {
    "name": "ipython",
    "version": 3
   },
   "file_extension": ".py",
   "mimetype": "text/x-python",
   "name": "python",
   "nbconvert_exporter": "python",
   "pygments_lexer": "ipython3",
   "version": "3.12.4"
  }
 },
 "nbformat": 4,
 "nbformat_minor": 5
}
