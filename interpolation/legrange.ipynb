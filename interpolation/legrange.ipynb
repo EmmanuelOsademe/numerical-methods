{
 "cells": [
  {
   "cell_type": "code",
   "execution_count": 3,
   "id": "6a74f3f7-67ed-45fb-a0ee-aed3e6cdb942",
   "metadata": {},
   "outputs": [
    {
     "data": {
      "text/plain": [
       "0.325"
      ]
     },
     "execution_count": 3,
     "metadata": {},
     "output_type": "execute_result"
    }
   ],
   "source": [
    "def interpolate(x0, x1, x2, x):\n",
    "    l0 = ((x - x1) * (x - x2))/((x0 - x1) * (x0 - x2))\n",
    "    f0 = 1/x0;\n",
    "    l1 = ((x - x0) * (x - x2))/((x1 - x0) * (x1 - x2))\n",
    "    f1 = 1/x1;\n",
    "    l2 = ((x - x0) * (x - x1))/((x2 - x0) * (x2 - x1))\n",
    "    f2 = 1/x2;\n",
    "\n",
    "    return l0 * f0 + l1 * f1 + l2 * f2\n",
    "interpolate(2, 2.5, 4, 3)"
   ]
  }
 ],
 "metadata": {
  "kernelspec": {
   "display_name": "Python 3 (ipykernel)",
   "language": "python",
   "name": "python3"
  },
  "language_info": {
   "codemirror_mode": {
    "name": "ipython",
    "version": 3
   },
   "file_extension": ".py",
   "mimetype": "text/x-python",
   "name": "python",
   "nbconvert_exporter": "python",
   "pygments_lexer": "ipython3",
   "version": "3.12.4"
  }
 },
 "nbformat": 4,
 "nbformat_minor": 5
}
