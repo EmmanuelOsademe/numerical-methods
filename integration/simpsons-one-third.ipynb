{
 "cells": [
  {
   "cell_type": "code",
   "execution_count": 1,
   "id": "ea153933-c9f2-429f-9e1d-7aa0cbf57665",
   "metadata": {},
   "outputs": [],
   "source": [
    "import numpy as np"
   ]
  },
  {
   "cell_type": "code",
   "execution_count": 2,
   "id": "cab92ef8-e997-480d-b3b7-7b70972814ca",
   "metadata": {},
   "outputs": [],
   "source": [
    "def simpsons_onethird(func, a, b, n):\n",
    "    \"\"\"\n",
    "    This function solves for the area under the graph of a function given the function, upper and lower bounds, and the number of intervals\n",
    "    Parameters:\n",
    "    -------------\n",
    "    :param func: The user-defined function, which needs to be entered as a string\n",
    "    :param a: The lower bound\n",
    "    :param b: The upper bound\n",
    "    :param n: The number of intervals\n",
    "\n",
    "    Returns:\n",
    "    ----------\n",
    "    :return: The integral within the defined bounds (area under the graph)\n",
    "    \"\"\"\n",
    "    if a >= b:\n",
    "        print(f\"Upper bound must be greater than lower bound.\")\n",
    "        return\n",
    "    if n % 2 == 1:\n",
    "        print(f\"Number of intervals must be even\")\n",
    "\n",
    "    def f(x):\n",
    "        return eval(func)\n",
    "    dx = (b - a)/n\n",
    "    x = np.linspace(a, b, n + 1)\n",
    "    y = f(x)\n",
    "    running_sum = 0\n",
    "    for i in range(1, n + 1, 2):\n",
    "        running_sum += (y[i - 1] + 4* y[i] + y[i + 1])\n",
    "    return running_sum * dx/3"
   ]
  },
  {
   "cell_type": "code",
   "execution_count": 3,
   "id": "c1dcbc99-6a47-46ee-aed0-5927a37f147f",
   "metadata": {},
   "outputs": [
    {
     "name": "stdout",
     "output_type": "stream",
     "text": [
      "[7.333333333333333, 7.333333333333333, 7.333333333333333]\n"
     ]
    }
   ],
   "source": [
    "result = [simpsons_onethird(\"2 * x**3 + 2 * x**2 - 3 * x + 3\", -1, 1, n) for n in [4, 8, 20]]\n",
    "print(result)"
   ]
  }
 ],
 "metadata": {
  "kernelspec": {
   "display_name": "Python 3 (ipykernel)",
   "language": "python",
   "name": "python3"
  },
  "language_info": {
   "codemirror_mode": {
    "name": "ipython",
    "version": 3
   },
   "file_extension": ".py",
   "mimetype": "text/x-python",
   "name": "python",
   "nbconvert_exporter": "python",
   "pygments_lexer": "ipython3",
   "version": "3.12.4"
  }
 },
 "nbformat": 4,
 "nbformat_minor": 5
}
