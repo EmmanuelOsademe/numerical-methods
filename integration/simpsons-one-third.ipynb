{
 "cells": [
  {
   "cell_type": "code",
   "execution_count": 2,
   "id": "ea153933-c9f2-429f-9e1d-7aa0cbf57665",
   "metadata": {},
   "outputs": [],
   "source": [
    "import numpy as np\n",
    "from scipy.interpolate import interp1d"
   ]
  },
  {
   "cell_type": "code",
   "execution_count": 6,
   "id": "cab92ef8-e997-480d-b3b7-7b70972814ca",
   "metadata": {},
   "outputs": [],
   "source": [
    "def simpsons_onethird(func, a, b, n):\n",
    "    \"\"\"\n",
    "    This function solves for the area under the graph of a function given the function, upper and lower bounds, and the number of intervals\n",
    "    Parameters:\n",
    "    -------------\n",
    "    :param func: The user-defined function, which needs to be entered as a string\n",
    "    :param a: The lower bound\n",
    "    :param b: The upper bound\n",
    "    :param n: The number of intervals\n",
    "\n",
    "    Returns:\n",
    "    ----------\n",
    "    :return: The integral within the defined bounds (area under the graph)\n",
    "    \"\"\"\n",
    "    if a >= b:\n",
    "        print(f\"Upper bound must be greater than lower bound.\")\n",
    "        return\n",
    "    if n % 2 == 1:\n",
    "        print(f\"Number of intervals must be even\")\n",
    "\n",
    "    def f(x):\n",
    "        return eval(func)\n",
    "    dx = (b - a)/n\n",
    "    x = np.linspace(a, b, n + 1)\n",
    "    print(x)\n",
    "    y = f(x)\n",
    "    print((dx / 3) * (y[0] + 4 * sum(y[1:n:2]) + 2 * sum(y[2:n:2]) + y[n]))\n",
    "    running_sum = 0\n",
    "    for i in range(1, n + 1, 2):\n",
    "        running_sum += (y[i - 1] + 4* y[i] + y[i + 1])\n",
    "    return running_sum * dx/3"
   ]
  },
  {
   "cell_type": "code",
   "execution_count": 38,
   "id": "d22d655a-9d4c-4976-baad-9a70e9a58368",
   "metadata": {},
   "outputs": [],
   "source": [
    "def simpsons_onethird2(func, x):\n",
    "    \"\"\"\n",
    "    This function solves for the area under the graph of a function given the function, and an array of independent variables (x)\n",
    "    Parameters:\n",
    "    -------------\n",
    "    :param func: The user-defined function, which needs to be entered as a string\n",
    "    :param x: An array of independent variables\n",
    "\n",
    "    Returns:\n",
    "    ----------\n",
    "    :return: The integral within the defined bounds (area under the graph)\n",
    "    \"\"\"\n",
    "\n",
    "    if(not isinstance(x, list)):\n",
    "        print(f\"Please provide the independent variable(s) as a list\")\n",
    "        return\n",
    "    \n",
    "    def f(x):\n",
    "        return eval(func)\n",
    "\n",
    "    y = f(x)\n",
    "    running_sum = 0\n",
    "    for i in range(1, len(x) + 1, 2):\n",
    "        running_sum += ((y[i - 1] + 4* y[i] + y[i + 1]) * (x[i+1] - x[i-1])/3)\n",
    "    return running_sum"
   ]
  },
  {
   "cell_type": "code",
   "execution_count": 8,
   "id": "c1dcbc99-6a47-46ee-aed0-5927a37f147f",
   "metadata": {},
   "outputs": [
    {
     "name": "stdout",
     "output_type": "stream",
     "text": [
      "[-1.  -0.5  0.   0.5  1. ]\n",
      "7.333333333333333\n",
      "[-1.   -0.75 -0.5  -0.25  0.    0.25  0.5   0.75  1.  ]\n",
      "7.333333333333333\n",
      "[-1.  -0.9 -0.8 -0.7 -0.6 -0.5 -0.4 -0.3 -0.2 -0.1  0.   0.1  0.2  0.3\n",
      "  0.4  0.5  0.6  0.7  0.8  0.9  1. ]\n",
      "7.333333333333333\n",
      "[7.333333333333333, 7.333333333333333, 7.333333333333333]\n"
     ]
    }
   ],
   "source": [
    "result = [simpsons_onethird(\"2 * x**3 + 2 * x**2 - 3 * x + 3\", -1, 1, n) for n in [4, 8, 20]]\n",
    "print(result)"
   ]
  },
  {
   "cell_type": "code",
   "execution_count": 40,
   "id": "5a497723-83df-481f-b906-2a811f73b886",
   "metadata": {},
   "outputs": [
    {
     "ename": "TypeError",
     "evalue": "unsupported operand type(s) for ** or pow(): 'list' and 'int'",
     "output_type": "error",
     "traceback": [
      "\u001b[1;31m---------------------------------------------------------------------------\u001b[0m",
      "\u001b[1;31mTypeError\u001b[0m                                 Traceback (most recent call last)",
      "Cell \u001b[1;32mIn[40], line 1\u001b[0m\n\u001b[1;32m----> 1\u001b[0m result \u001b[38;5;241m=\u001b[39m simpsons_onethird2(\u001b[38;5;124m\"\u001b[39m\u001b[38;5;124m2 * x**3 + 2 * x**2 - 3 * x + 3\u001b[39m\u001b[38;5;124m\"\u001b[39m, [\u001b[38;5;241m-\u001b[39m\u001b[38;5;241m1\u001b[39m, \u001b[38;5;241m-\u001b[39m\u001b[38;5;241m0.75\u001b[39m, \u001b[38;5;241m-\u001b[39m\u001b[38;5;241m0.5\u001b[39m, \u001b[38;5;241m-\u001b[39m\u001b[38;5;241m0.25\u001b[39m, \u001b[38;5;241m0\u001b[39m, \u001b[38;5;241m0.25\u001b[39m, \u001b[38;5;241m0.5\u001b[39m, \u001b[38;5;241m0.75\u001b[39m,  \u001b[38;5;241m1.\u001b[39m])\n\u001b[0;32m      2\u001b[0m \u001b[38;5;28mprint\u001b[39m(result)\n",
      "Cell \u001b[1;32mIn[38], line 21\u001b[0m, in \u001b[0;36msimpsons_onethird2\u001b[1;34m(func, x)\u001b[0m\n\u001b[0;32m     18\u001b[0m \u001b[38;5;28;01mdef\u001b[39;00m \u001b[38;5;21mf\u001b[39m(x):\n\u001b[0;32m     19\u001b[0m     \u001b[38;5;28;01mreturn\u001b[39;00m \u001b[38;5;28meval\u001b[39m(func)\n\u001b[1;32m---> 21\u001b[0m y \u001b[38;5;241m=\u001b[39m f(x)\n\u001b[0;32m     22\u001b[0m running_sum \u001b[38;5;241m=\u001b[39m \u001b[38;5;241m0\u001b[39m\n\u001b[0;32m     23\u001b[0m \u001b[38;5;28;01mfor\u001b[39;00m i \u001b[38;5;129;01min\u001b[39;00m \u001b[38;5;28mrange\u001b[39m(\u001b[38;5;241m1\u001b[39m, \u001b[38;5;28mlen\u001b[39m(x) \u001b[38;5;241m+\u001b[39m \u001b[38;5;241m1\u001b[39m, \u001b[38;5;241m2\u001b[39m):\n",
      "Cell \u001b[1;32mIn[38], line 19\u001b[0m, in \u001b[0;36msimpsons_onethird2.<locals>.f\u001b[1;34m(x)\u001b[0m\n\u001b[0;32m     18\u001b[0m \u001b[38;5;28;01mdef\u001b[39;00m \u001b[38;5;21mf\u001b[39m(x):\n\u001b[1;32m---> 19\u001b[0m     \u001b[38;5;28;01mreturn\u001b[39;00m \u001b[38;5;28meval\u001b[39m(func)\n",
      "File \u001b[1;32m<string>:1\u001b[0m\n",
      "\u001b[1;31mTypeError\u001b[0m: unsupported operand type(s) for ** or pow(): 'list' and 'int'"
     ]
    }
   ],
   "source": [
    "result = simpsons_onethird2(\"2 * x**3 + 2 * x**2 - 3 * x + 3\", [-1, -0.75, -0.5, -0.25, 0, 0.25, 0.5, 0.75,  1.])\n",
    "print(result)"
   ]
  }
 ],
 "metadata": {
  "kernelspec": {
   "display_name": "Python 3 (ipykernel)",
   "language": "python",
   "name": "python3"
  },
  "language_info": {
   "codemirror_mode": {
    "name": "ipython",
    "version": 3
   },
   "file_extension": ".py",
   "mimetype": "text/x-python",
   "name": "python",
   "nbconvert_exporter": "python",
   "pygments_lexer": "ipython3",
   "version": "3.12.4"
  }
 },
 "nbformat": 4,
 "nbformat_minor": 5
}
