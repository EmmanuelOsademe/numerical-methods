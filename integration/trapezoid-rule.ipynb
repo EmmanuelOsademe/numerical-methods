{
 "cells": [
  {
   "cell_type": "code",
   "execution_count": 1,
   "id": "41fda070-c0b8-46da-b629-7760863c0f54",
   "metadata": {},
   "outputs": [],
   "source": [
    "import numpy as np"
   ]
  },
  {
   "cell_type": "code",
   "execution_count": 37,
   "id": "5fd71bcb-13fd-40d6-ba1d-ecd107df685a",
   "metadata": {},
   "outputs": [],
   "source": [
    "def trapezoid_rule1(func, a, b, n):\n",
    "    \"\"\"\n",
    "    This function solves for the area under the graph of a function given the function, upper and lower bounds, and the number of intervals\n",
    "    Parameters:\n",
    "    -------------\n",
    "    :param func: The user-defined function, which needs to be entered as a string\n",
    "    :param a: The lower bound\n",
    "    :param b: The upper bound\n",
    "    :param n: The number of intervals\n",
    "\n",
    "    Returns:\n",
    "    ----------\n",
    "    :return: The integral within the defined bounds (area under the graph)\n",
    "    \"\"\"\n",
    "    if a >= b:\n",
    "        print(f\"Upper bound must be greater than lower bound.\")\n",
    "        return\n",
    "\n",
    "    def f(x):\n",
    "        return eval(func)\n",
    "    dx = (b - a)/n\n",
    "    x = np.linspace(a, b, n + 1)\n",
    "    y = f(x)\n",
    "    running_sum = 0\n",
    "    for i in range(1, n + 1):\n",
    "        running_sum += (y[i] + y[i-1])\n",
    "    return running_sum * dx/2"
   ]
  },
  {
   "cell_type": "code",
   "execution_count": 27,
   "id": "da3524cd-52eb-40bc-a597-ec4e5784b8cb",
   "metadata": {},
   "outputs": [
    {
     "name": "stdout",
     "output_type": "stream",
     "text": [
      "[15.641590979917458, 15.565418973807013, 15.534905072218303, 15.534587629828865]\n"
     ]
    }
   ],
   "source": [
    "result = [trapezoid_rule1(\"x * np.exp(np.sin(x))\", 1, 6, n) for n in [5, 10, 100, 1000]]\n",
    "print(result)"
   ]
  },
  {
   "cell_type": "code",
   "execution_count": 49,
   "id": "4d29647c-ad70-41be-a242-b4408039da25",
   "metadata": {},
   "outputs": [],
   "source": [
    "def trapezoid_rule2(func, x):\n",
    "    \"\"\"\n",
    "    This function solves for the area under the graph of a function given the function, and an array of independent variables (x)\n",
    "    Parameters:\n",
    "    -------------\n",
    "    :param func: The user-defined function, which needs to be entered as a string\n",
    "    :param x: An array of independent variables\n",
    "\n",
    "    Returns:\n",
    "    ----------\n",
    "    :return: The integral within the defined bounds (area under the graph)\n",
    "    \"\"\"\n",
    "\n",
    "    if(not isinstance(x, list)):\n",
    "        print(f\"Please provide the independent variable(s) as a list\")\n",
    "        return\n",
    "    \n",
    "    def f(x):\n",
    "        return eval(func)\n",
    "\n",
    "    y = f(x)\n",
    "    print(y)\n",
    "    running_sum = 0\n",
    "    for i in range(1, len(x)):\n",
    "        running_sum += ((x[i] - x[i-1]) * (y[i] + y[i - 1]))\n",
    "    return 0.5 * running_sum"
   ]
  },
  {
   "cell_type": "code",
   "execution_count": 51,
   "id": "99ef229c-80c2-4475-9c8f-92f6a2749f5b",
   "metadata": {},
   "outputs": [
    {
     "name": "stdout",
     "output_type": "stream",
     "text": [
      "[2.31977682 4.98041226 1.69307648 4.53735377]\n",
      "16.686712668395224\n"
     ]
    }
   ],
   "source": [
    "result = trapezoid_rule2(\"x * np.exp(np.sin(x))\", [1, 2.07, 4.5, 6])\n",
    "print(result)"
   ]
  },
  {
   "cell_type": "code",
   "execution_count": 47,
   "id": "3983e10e-0ca5-4a67-8364-4e5759cafb00",
   "metadata": {},
   "outputs": [],
   "source": [
    "def trapezoid_rule3(x, y):\n",
    "    \"\"\"\n",
    "    This function solves for the area under the graph of a function given arrays of independent variable(s) and corresponding values for dependent variables\n",
    "    Parameters:\n",
    "    -------------\n",
    "    :param x: An array of independent variables\n",
    "    :param y: An array of dependent variables\n",
    "\n",
    "    Returns:\n",
    "    ----------\n",
    "    :return: The integral within the defined bounds (area under the graph)\n",
    "    \"\"\"\n",
    "\n",
    "    if(not isinstance(x, list) or not isinstance(y, list)):\n",
    "        print(f\"Please provide an array of both independent and dependent variables\")\n",
    "        return\n",
    "    if len(x) != len(y):\n",
    "        print(f\"Expecting the array of both arguments to be of equal length\")\n",
    "        return\n",
    "        \n",
    "    running_sum = 0\n",
    "    for i in range(1, len(x)):\n",
    "        running_sum += ((x[i] - x[i-1]) * (y[i] + y[i - 1]))\n",
    "    return 0.5 * running_sum"
   ]
  },
  {
   "cell_type": "code",
   "execution_count": 57,
   "id": "df1e78cf-1ee8-4af4-bb6c-295dd0f751f5",
   "metadata": {},
   "outputs": [
    {
     "name": "stdout",
     "output_type": "stream",
     "text": [
      "16.686712664399998\n"
     ]
    }
   ],
   "source": [
    "result = trapezoid_rule3([1, 2.07, 4.5, 6], [2.31977682, 4.98041226, 1.69307648, 4.53735377])\n",
    "print(result)"
   ]
  }
 ],
 "metadata": {
  "kernelspec": {
   "display_name": "Python 3 (ipykernel)",
   "language": "python",
   "name": "python3"
  },
  "language_info": {
   "codemirror_mode": {
    "name": "ipython",
    "version": 3
   },
   "file_extension": ".py",
   "mimetype": "text/x-python",
   "name": "python",
   "nbconvert_exporter": "python",
   "pygments_lexer": "ipython3",
   "version": "3.12.4"
  }
 },
 "nbformat": 4,
 "nbformat_minor": 5
}
