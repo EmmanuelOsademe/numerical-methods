{
 "cells": [
  {
   "cell_type": "code",
   "execution_count": 1,
   "id": "731fff88-bb4c-49a4-8dd4-fba83924429f",
   "metadata": {},
   "outputs": [],
   "source": [
    "import numpy as np"
   ]
  },
  {
   "cell_type": "code",
   "execution_count": 27,
   "id": "18ac99aa-1d6d-4ab5-8275-64795bd15b04",
   "metadata": {},
   "outputs": [],
   "source": [
    "def simpsons_three_eight(func, a, b, n):\n",
    "    \"\"\"\n",
    "    This function solves for the area under the graph of a function given the function, upper and lower bounds, and the number of intervals\n",
    "    Parameters:\n",
    "    -------------\n",
    "    :param func: The user-defined function, which needs to be entered as a string\n",
    "    :param a: The lower bound\n",
    "    :param b: The upper bound\n",
    "    :param n: The number of intervals\n",
    "\n",
    "    Returns:\n",
    "    ----------\n",
    "    :return: The integral within the defined bounds (area under the graph)\n",
    "    \"\"\"\n",
    "    if a >= b:\n",
    "        print(f\"Upper bound must be greater than lower bound.\")\n",
    "        return\n",
    "    if n % 3 != 0:\n",
    "        print(f\"Number of intervals must be a multiple of 3\")\n",
    "\n",
    "    def f(x):\n",
    "        return eval(func)\n",
    "    dx = (b - a)/n\n",
    "    x = np.linspace(a, b, n + 1)\n",
    "    y = f(x)\n",
    "    running_sum = 0\n",
    "    for i in range(n+1):\n",
    "        if i == 0 or i == n:\n",
    "            running_sum += y[i]\n",
    "        elif i % 3 == 0:\n",
    "            running_sum += (2 * y[i])\n",
    "        else:\n",
    "            running_sum += (3 * y[i])\n",
    "    # for i in range(0, n, 3):\n",
    "    #     running_sum += (y[i] + 3 * y[i+1] + 3 * y[i+2] + y[i+3])\n",
    "    return running_sum * dx * 3/8"
   ]
  },
  {
   "cell_type": "code",
   "execution_count": 31,
   "id": "d87b581c-3d66-42fa-aa39-4b09570f081c",
   "metadata": {},
   "outputs": [
    {
     "name": "stdout",
     "output_type": "stream",
     "text": [
      "[0.33664923103489164, 0.3367104230691369, 0.3367028898314175, 0.3367007973698457]\n"
     ]
    }
   ],
   "source": [
    "result = [simpsons_three_eight(\"x * np.exp(-x**2)\", 0.5, 1.5, n) for n in [3, 6, 9, 30]]\n",
    "print(result)"
   ]
  }
 ],
 "metadata": {
  "kernelspec": {
   "display_name": "Python 3 (ipykernel)",
   "language": "python",
   "name": "python3"
  },
  "language_info": {
   "codemirror_mode": {
    "name": "ipython",
    "version": 3
   },
   "file_extension": ".py",
   "mimetype": "text/x-python",
   "name": "python",
   "nbconvert_exporter": "python",
   "pygments_lexer": "ipython3",
   "version": "3.12.4"
  }
 },
 "nbformat": 4,
 "nbformat_minor": 5
}
