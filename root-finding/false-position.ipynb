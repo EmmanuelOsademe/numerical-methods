{
 "cells": [
  {
   "cell_type": "code",
   "execution_count": 9,
   "id": "7ba817c5-b144-48c5-8431-1798610b89a7",
   "metadata": {},
   "outputs": [],
   "source": [
    "def false_position(func, a, b, error_limit):\n",
    "    \"\"\"\n",
    "    This function solves for the unknown roots of a non-linear function, given the function, initial root boundaries, and error limit\n",
    "    Parameters:\n",
    "    -------------\n",
    "    :param func: The user-defined function, which needs to be entered as a string\n",
    "    :param a: The initial lower bound\n",
    "    :param b: The initial upper bound\n",
    "    :param error_limit: The tolerance level of the error\n",
    "\n",
    "    Returns:\n",
    "    ----------\n",
    "    :return: The root of the function\n",
    "    \"\"\"\n",
    "    def f(x):\n",
    "        f = eval(func)\n",
    "        return f;\n",
    "\n",
    "    c_before = 0;\n",
    "    c = (a * f(b) - b * f(a))/(f(b) - f(a))\n",
    "    error = abs(c - c_before)\n",
    "    \n",
    "    while error > error_limit:\n",
    "        c_after = (a * f(b) - b * f(a))/(f(b) - f(a))\n",
    "        print((f(c), c))\n",
    "        if f(a) * f(b) > 0:\n",
    "            print(\"No root or multiple roots present, therefore, the bisection method will not work\")\n",
    "            quit()\n",
    "        if f(c_after) * f(a) > 0:\n",
    "            error = abs(c_after - c)\n",
    "            a = c_after\n",
    "            c = c_after\n",
    "        elif f(c_after) * f(b) > 0:\n",
    "            error = abs(c_after - c)\n",
    "            b = c_after\n",
    "            c = c_after\n",
    "        else:\n",
    "            print(\"Something went wrong\")\n",
    "            return\n",
    "\n",
    "    print(f\"The error is {error}\")\n",
    "    print(f\"The lower bound is a, is {a}. The upper bound is, b,  {b}\")\n",
    "    return b;"
   ]
  },
  {
   "cell_type": "code",
   "execution_count": 11,
   "id": "f8cc76e8-627f-472c-890b-7fc063033196",
   "metadata": {},
   "outputs": [
    {
     "name": "stdout",
     "output_type": "stream",
     "text": [
      "(-1.602274384020994, 1.263157894736842)\n",
      "(-1.602274384020994, 1.263157894736842)\n",
      "(-1.602274384020994, 1.263157894736842)\n",
      "(-1.602274384020994, 1.263157894736842)\n",
      "(-1.602274384020994, 1.263157894736842)\n",
      "(-1.602274384020994, 1.263157894736842)\n",
      "(-1.602274384020994, 1.263157894736842)\n",
      "(-1.602274384020994, 1.263157894736842)\n",
      "(-1.602274384020994, 1.263157894736842)\n",
      "(-1.602274384020994, 1.263157894736842)\n",
      "(-1.602274384020994, 1.263157894736842)\n",
      "(-1.602274384020994, 1.263157894736842)\n",
      "(-1.602274384020994, 1.263157894736842)\n",
      "(-1.602274384020994, 1.263157894736842)\n",
      "(-1.602274384020994, 1.263157894736842)\n",
      "(-1.602274384020994, 1.263157894736842)\n",
      "(-1.602274384020994, 1.263157894736842)\n",
      "The error is 7.985012651090528e-11\n",
      "The lower bound is a, is 1.3652300133872994. The upper bound is, b,  2\n",
      "(-0.783130659002249, 1.1741071428571428)\n",
      "(-0.783130659002249, 1.1741071428571428)\n",
      "(-0.783130659002249, 1.1741071428571428)\n",
      "(-0.783130659002249, 1.1741071428571428)\n",
      "(-0.783130659002249, 1.1741071428571428)\n",
      "(-0.783130659002249, 1.1741071428571428)\n",
      "(-0.783130659002249, 1.1741071428571428)\n",
      "(-0.783130659002249, 1.1741071428571428)\n",
      "(-0.783130659002249, 1.1741071428571428)\n",
      "(-0.783130659002249, 1.1741071428571428)\n",
      "(-0.783130659002249, 1.1741071428571428)\n",
      "(-0.783130659002249, 1.1741071428571428)\n",
      "(-0.783130659002249, 1.1741071428571428)\n",
      "(-0.783130659002249, 1.1741071428571428)\n",
      "(-0.783130659002249, 1.1741071428571428)\n",
      "(-0.783130659002249, 1.1741071428571428)\n",
      "(-0.783130659002249, 1.1741071428571428)\n",
      "(-0.783130659002249, 1.1741071428571428)\n",
      "The error is 8.121865402443973e-10\n",
      "The lower bound is a, is 1.3816149738310965. The upper bound is, b,  1.5\n"
     ]
    },
    {
     "data": {
      "text/plain": [
       "1.5"
      ]
     },
     "execution_count": 11,
     "metadata": {},
     "output_type": "execute_result"
    }
   ],
   "source": [
    "false_position(\"x**3 + 4*x**2 - 10\", 1, 2, 0.0000000001)\n",
    "\n",
    "false_position(\"(x+2) * (x+1) * x * (x-1)**3 + (x-2)\", -1.5, 1.5, 0.000000001) "
   ]
  }
 ],
 "metadata": {
  "kernelspec": {
   "display_name": "Python 3 (ipykernel)",
   "language": "python",
   "name": "python3"
  },
  "language_info": {
   "codemirror_mode": {
    "name": "ipython",
    "version": 3
   },
   "file_extension": ".py",
   "mimetype": "text/x-python",
   "name": "python",
   "nbconvert_exporter": "python",
   "pygments_lexer": "ipython3",
   "version": "3.12.4"
  }
 },
 "nbformat": 4,
 "nbformat_minor": 5
}
