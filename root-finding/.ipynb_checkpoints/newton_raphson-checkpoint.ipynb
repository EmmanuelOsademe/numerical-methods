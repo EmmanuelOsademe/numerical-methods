{
 "cells": [
  {
   "cell_type": "code",
   "execution_count": 15,
   "id": "f414d4a2-c0ec-4eab-9dd4-1ac4bff25746",
   "metadata": {},
   "outputs": [],
   "source": [
    "import numpy as np"
   ]
  },
  {
   "cell_type": "code",
   "execution_count": 13,
   "id": "8072896d-80d7-417a-8174-177682a97986",
   "metadata": {},
   "outputs": [
    {
     "name": "stdin",
     "output_type": "stream",
     "text": [
      "Enter initial guess:  1\n"
     ]
    },
    {
     "name": "stdout",
     "output_type": "stream",
     "text": [
      "(1.0, 1.4545454545454546, 0, 0.4545454545454546)\n",
      "(1.4545454545454546, 1.3689004010695187, 1, -0.08564505347593587)\n",
      "(1.3689004010695187, 1.365236600202116, 2, -0.003663800867402811)\n",
      "(1.365236600202116, 1.3652300134353668, 3, -6.586766749139272e-06)\n",
      "(1.3652300134353668, 1.3652300134140969, 4, -2.1269874750373674e-11)\n",
      "Root of the equation is 1.3652300134140969\n",
      "Solution found after 5 iterations\n"
     ]
    }
   ],
   "source": [
    "# Find the root of the equation y = x**3 + 4*x**2 - 10 using the Newton_Raphson\n",
    "\n",
    "# Step 1: Select appropriate a and b based on the observed plot\n",
    "x = float(input(\"Enter initial guess: \"))\n",
    "\n",
    "# Step 2: Now that appropriate guesses have been made, define the tolerance and start the iteration\n",
    "tol = 10**-10\n",
    "iters = 0\n",
    "max_iters =  30\n",
    "error = 1000\n",
    "\n",
    "while abs(error) > tol:\n",
    "    fx = x**3 + 4 * x**2 - 10\n",
    "    if fx == 0:\n",
    "        print(f\"The root of the equation is {x}\")\n",
    "        break\n",
    "    \n",
    "    fx_prime = 3 * x**2 + 8 * x\n",
    "    x_new = x - fx/fx_prime\n",
    "    error = x_new - x\n",
    "    print((x, x_new, iters, error))\n",
    "    iters += 1\n",
    "    x = x_new\n",
    "    if iters == max_iters:\n",
    "        break\n",
    "    \n",
    "if iters == max_iters:\n",
    "    print(f\"Result not found after {iters} iterations\");\n",
    "else:\n",
    "    print(f\"Root of the equation is {x}\\nSolution found after {iters} iterations\")"
   ]
  },
  {
   "cell_type": "code",
   "execution_count": 21,
   "id": "0e5b28e6-d9b2-47b0-b18b-0371bbea25cd",
   "metadata": {},
   "outputs": [
    {
     "name": "stdin",
     "output_type": "stream",
     "text": [
      "Enter initial guess:  0.5\n"
     ]
    },
    {
     "name": "stdout",
     "output_type": "stream",
     "text": [
      "(0.5, 0.5473297569017181, 0, 0.047329756901718145)\n",
      "(0.5473297569017181, 0.547808574321128, 1, 0.00047881741940980493)\n",
      "(0.547808574321128, 0.5478086216540969, 2, 4.7332968988733626e-08)\n",
      "(0.5478086216540969, 0.5478086216540974, 3, 4.440892098500626e-16)\n",
      "Root of the equation is 0.5478086216540974\n",
      "Solution found after 4 iterations\n"
     ]
    }
   ],
   "source": [
    "# Find the root of the equation y = x - 3**(-x) using the Newton_Raphson\n",
    "\n",
    "# Step 1: Select appropriate a and b based on the observed plot\n",
    "x = float(input(\"Enter initial guess: \"))\n",
    "\n",
    "# Step 2: Now that appropriate guesses have been made, define the tolerance and start the iteration\n",
    "tol = 10**-10\n",
    "iters = 0\n",
    "max_iters =  30\n",
    "error = 1000\n",
    "\n",
    "while abs(error) > tol:\n",
    "    fx = x - 3 ** (-1 * x)\n",
    "    if fx == 0:\n",
    "        print(f\"The root of the equation is {x}\")\n",
    "        break\n",
    "    \n",
    "    fx_prime = 1 + np.log(3) * 3 **(-1 * x)\n",
    "    x_new = x - fx/fx_prime\n",
    "    error = x_new - x\n",
    "    print((x, x_new, iters, error))\n",
    "    iters += 1\n",
    "    x = x_new\n",
    "    if iters == max_iters:\n",
    "        break\n",
    "    \n",
    "if iters == max_iters:\n",
    "    print(f\"Result not found after {iters} iterations\");\n",
    "else:\n",
    "    print(f\"Root of the equation is {x}\\nSolution found after {iters} iterations\")"
   ]
  },
  {
   "cell_type": "code",
   "execution_count": 25,
   "id": "748ba112-7e59-4c3e-85f3-981e8076dad8",
   "metadata": {},
   "outputs": [
    {
     "name": "stdin",
     "output_type": "stream",
     "text": [
      "Enter initial guess:  1.5\n"
     ]
    },
    {
     "name": "stdout",
     "output_type": "stream",
     "text": [
      "(1.5, 1.7882791003152174, 0, 0.2882791003152174)\n",
      "(1.7882791003152174, 1.8457723359438054, 1, 0.05749323562858799)\n",
      "(1.8457723359438054, 1.8714005418318986, 2, 0.025628205888093225)\n",
      "(1.8714005418318986, 1.8836210857870128, 3, 0.012220543955114183)\n",
      "(1.8836210857870128, 1.8895991366086187, 4, 0.0059780508216058514)\n",
      "(1.8895991366086187, 1.8925568378904782, 5, 0.0029577012818595705)\n",
      "(1.8925568378904782, 1.8940280587800475, 6, 0.0014712208895693024)\n",
      "(1.8940280587800475, 1.8947617860795096, 7, 0.0007337272994620836)\n",
      "(1.8947617860795096, 1.8951281819274766, 8, 0.00036639584796693825)\n",
      "(1.8951281819274766, 1.8953112632705824, 9, 0.0001830813431058509)\n",
      "(1.8953112632705824, 1.895402774843692, 10, 9.151157310949287e-05)\n",
      "(1.895402774843692, 1.8954485233612517, 11, 4.574851755978493e-05)\n",
      "(1.8954485233612517, 1.8954713958026048, 12, 2.2872441353127826e-05)\n",
      "(1.8954713958026048, 1.8954828315677954, 13, 1.1435765190581648e-05)\n",
      "(1.8954828315677954, 1.8954885493456077, 14, 5.717777812330738e-06)\n",
      "(1.8954885493456077, 1.8954914082230727, 15, 2.858877464984033e-06)\n",
      "(1.8954914082230727, 1.8954928376460225, 16, 1.4294229497835431e-06)\n",
      "(1.8954928376460225, 1.8954935523572354, 17, 7.147112128791377e-07)\n",
      "(1.8954935523572354, 1.8954939098078598, 18, 3.574506244330422e-07)\n",
      "(1.8954939098078598, 1.895494088531308, 19, 1.7872344826308506e-07)\n",
      "(1.895494088531308, 1.8954941773108158, 20, 8.877950774532906e-08)\n",
      "(1.8954941773108158, 1.8954942206600953, 21, 4.334927949933842e-08)\n",
      "(1.8954942206600953, 1.8954942429662702, 22, 2.2306174907171794e-08)\n",
      "(1.8954942429662702, 1.8954942498430287, 23, 6.876758495977242e-09)\n",
      "(1.8954942498430287, 1.8954942690982546, 24, 1.9255225858216818e-08)\n",
      "(1.8954942690982546, 1.8954943292312085, 25, 6.013295394957652e-08)\n",
      "(1.8954943292312085, 1.8954943012905419, 26, -2.79406666692239e-08)\n",
      "(1.8954943012905419, 1.895494288004138, 27, -1.328640375497514e-08)\n",
      "(1.895494288004138, 1.8954942761653268, 28, -1.1838811264652804e-08)\n",
      "(1.8954942761653268, 1.8954942852279462, 29, 9.062619321653642e-09)\n",
      "Result not found after 30 iterations\n"
     ]
    }
   ],
   "source": [
    "# Find the root of the equation y = 1/2 + x**2/4 - xsinx - cos(2x)/2 using the Newton_Raphson\n",
    "\n",
    "# Step 1: Select appropriate a and b based on the observed plot\n",
    "x = float(input(\"Enter initial guess: \"))\n",
    "\n",
    "# Step 2: Now that appropriate guesses have been made, define the tolerance and start the iteration\n",
    "tol = 10**-5\n",
    "iters = 0\n",
    "max_iters =  30\n",
    "error = 1000\n",
    "\n",
    "while abs(error) > tol:\n",
    "    fx = 0.5 + 0.25 * x**2 - x * np.sin(x) - 0.5 * np.cos(2 * x) \n",
    "    if fx == 0:\n",
    "        print(f\"The root of the equation is {x}\")\n",
    "        break\n",
    "    \n",
    "    fx_prime = 0.5 * x - np.sin(x) - x * np.cos(x) + np.sin(2*x)\n",
    "    x_new = x - fx/fx_prime\n",
    "    error = x_new - x\n",
    "    print((x, x_new, iters, error))\n",
    "    iters += 1\n",
    "    x = x_new\n",
    "    if iters == max_iters:\n",
    "        break\n",
    "    \n",
    "if iters == max_iters:\n",
    "    print(f\"Result not found after {iters} iterations\");\n",
    "else:\n",
    "    print(f\"Root of the equation is {x}\\nSolution found after {iters} iterations\")"
   ]
  }
 ],
 "metadata": {
  "kernelspec": {
   "display_name": "Python 3 (ipykernel)",
   "language": "python",
   "name": "python3"
  },
  "language_info": {
   "codemirror_mode": {
    "name": "ipython",
    "version": 3
   },
   "file_extension": ".py",
   "mimetype": "text/x-python",
   "name": "python",
   "nbconvert_exporter": "python",
   "pygments_lexer": "ipython3",
   "version": "3.12.4"
  }
 },
 "nbformat": 4,
 "nbformat_minor": 5
}
