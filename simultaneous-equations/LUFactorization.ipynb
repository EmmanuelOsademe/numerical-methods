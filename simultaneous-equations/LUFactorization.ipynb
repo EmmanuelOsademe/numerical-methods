{
 "cells": [
  {
   "cell_type": "code",
   "execution_count": 1,
   "id": "08585eec-c060-4dcb-8c20-cfc9d889224d",
   "metadata": {},
   "outputs": [],
   "source": [
    "import numpy as np"
   ]
  },
  {
   "cell_type": "code",
   "execution_count": 2,
   "id": "b0927083-5360-404e-a1bd-941f6210b5b0",
   "metadata": {},
   "outputs": [],
   "source": [
    "def luFactorization(a_matrix, b_vector):\n",
    "    # Verify a_matrix is sized correctly\n",
    "    if a_matrix.shape[0] != a_matrix.shape[1]:\n",
    "        print(\"Square matrix not provided\")\n",
    "        return\n",
    "    # Verify b_vector is sized correctly\n",
    "    if b_vector.shape[1] > 1 or a_matrix.shape[0] != b_vector.shape[0]:\n",
    "        print(\"B vector not properly sized\")\n",
    "        return\n",
    "\n",
    "    a_matrix = a_matrix.astype(np.float64)\n",
    "    b_vector = b_vector.astype(np.float64)\n",
    "    # Initialize required variables\n",
    "    n = len(a_matrix)\n",
    "    i = 0\n",
    "    c = np.zeros(n) # Modified constant vector\n",
    "    x = np.zeros(n) # Result vector\n",
    "    lower_diag = np.identity(n) # Lower diagonal matrix\n",
    "\n",
    "    #  Update the upper diagonal and lower diagonal matrix during forward elimination\n",
    "    while i < n:\n",
    "        if a_matrix[i][i] == 0.0:\n",
    "            print(\"Division by 0 error\")\n",
    "            return\n",
    "        for j in range(i + 1, n):\n",
    "            scaling_factor = a_matrix[j][i] / a_matrix[i][i]\n",
    "            lower_diag[j][i] = scaling_factor\n",
    "            a_matrix[j] = a_matrix[j] - a_matrix[i] * scaling_factor\n",
    "        i = i + 1\n",
    "    \n",
    "\n",
    "    # Update the modified constant vector via forward substition\n",
    "    c[0] = b_vector[0][0]\n",
    "    for i in range(1, n):\n",
    "        tracker = b_vector[i][0]\n",
    "        for j in range(0, i):\n",
    "            tracker -= c[j] * lower_diag[i][j]\n",
    "        c[i] = tracker\n",
    "\n",
    "    # Update the resuclt vector via backward substitution\n",
    "    x[n - 1] = c[n -1]/a_matrix[n-1][n-1]\n",
    "    for i in range(n-2, -1, -1):\n",
    "        tracker = c[i]\n",
    "        for j in range(n-1, i - 1, -1):\n",
    "            tracker -= (a_matrix[i][j] * x[j])\n",
    "        x[i] = tracker/a_matrix[i][i]\n",
    "\n",
    "    print(\"The upper triangular matrix is :\")\n",
    "    print(a_matrix)\n",
    "    print(\"\\nThe lower triangular matrix is :\")\n",
    "    print(lower_diag)\n",
    "    # Display result\n",
    "    print(\"\\n\")\n",
    "    print(f\"The following x-vector solves the simultaneous equations:\")\n",
    "    for answer in range(n):\n",
    "        print(f\"x{answer} is {x[answer]}\")"
   ]
  },
  {
   "cell_type": "code",
   "execution_count": 3,
   "id": "02c7332e-0857-4d82-bb9d-5b892e1632b2",
   "metadata": {},
   "outputs": [
    {
     "name": "stdout",
     "output_type": "stream",
     "text": [
      "The upper triangular matrix is :\n",
      "[[2. 3.]\n",
      " [0. 3.]]\n",
      "\n",
      "The lower triangular matrix is :\n",
      "[[1. 0.]\n",
      " [2. 1.]]\n",
      "\n",
      "\n",
      "The following x-vector solves the simultaneous equations:\n",
      "x0 is 3.0\n",
      "x1 is -0.6666666666666666\n"
     ]
    }
   ],
   "source": [
    "X_matrix = np.array([[2, 3], [4, 9]])\n",
    "y_vector = np.array([[4], [6]])\n",
    "luFactorization(X_matrix, y_vector)"
   ]
  },
  {
   "cell_type": "code",
   "execution_count": 4,
   "id": "f5614da3-ed14-41ad-84b4-1b8d8432c769",
   "metadata": {},
   "outputs": [
    {
     "name": "stdout",
     "output_type": "stream",
     "text": [
      "The upper triangular matrix is :\n",
      "[[ 1.          0.          1.        ]\n",
      " [ 0.         -3.          1.        ]\n",
      " [ 0.          0.          1.33333333]]\n",
      "\n",
      "The lower triangular matrix is :\n",
      "[[ 1.          0.          0.        ]\n",
      " [ 0.          1.          0.        ]\n",
      " [ 2.         -0.33333333  1.        ]]\n",
      "\n",
      "\n",
      "The following x-vector solves the simultaneous equations:\n",
      "x0 is 2.0\n",
      "x1 is -1.0\n",
      "x2 is 4.0\n"
     ]
    }
   ],
   "source": [
    "variable_matrix = np.array([[1, 0, 1], [0, -3, 1], [2, 1, 3]])\n",
    "constant_matrix = np.array([[6], [7], [15]])\n",
    "luFactorization(variable_matrix, constant_matrix)"
   ]
  },
  {
   "cell_type": "code",
   "execution_count": 5,
   "id": "667007ce-f278-41af-8d1a-8f298c8098ae",
   "metadata": {},
   "outputs": [
    {
     "name": "stdout",
     "output_type": "stream",
     "text": [
      "The upper triangular matrix is :\n",
      "[[ 3.          2.         -1.        ]\n",
      " [ 0.         -5.          5.        ]\n",
      " [ 0.          0.          7.66666667]]\n",
      "\n",
      "The lower triangular matrix is :\n",
      "[[ 1.          0.          0.        ]\n",
      " [ 2.          1.          0.        ]\n",
      " [ 0.33333333 -1.86666667  1.        ]]\n",
      "\n",
      "\n",
      "The following x-vector solves the simultaneous equations:\n",
      "x0 is -2.0\n",
      "x1 is 1.0\n",
      "x2 is 3.0\n"
     ]
    }
   ],
   "source": [
    "variable_matrix = np.array([[3, 2, -1], [6, -1, 3], [1, 10, -2]])\n",
    "constant_matrix = np.array([[-7], [-4], [2]])\n",
    "luFactorization(variable_matrix, constant_matrix)"
   ]
  },
  {
   "cell_type": "code",
   "execution_count": 6,
   "id": "c2365240-3929-4768-b12e-714a67ea80c8",
   "metadata": {},
   "outputs": [
    {
     "name": "stdout",
     "output_type": "stream",
     "text": [
      "The upper triangular matrix is :\n",
      "[[-6.         -3.          3.        ]\n",
      " [ 0.         -3.5        -1.5       ]\n",
      " [ 0.          0.         -5.71428571]]\n",
      "\n",
      "The lower triangular matrix is :\n",
      "[[ 1.          0.          0.        ]\n",
      " [-1.5         1.          0.        ]\n",
      " [-0.5        -0.14285714  1.        ]]\n",
      "\n",
      "\n",
      "The following x-vector solves the simultaneous equations:\n",
      "x0 is -0.6666666666666666\n",
      "x1 is 5.0\n",
      "x2 is -1.0\n"
     ]
    }
   ],
   "source": [
    "variable_matrix = np.array([[-6, -3, 3], [9, 1, -6], [3, 2, -7]])\n",
    "constant_matrix = np.array([[-14], [5], [15]])\n",
    "luFactorization(variable_matrix, constant_matrix)"
   ]
  }
 ],
 "metadata": {
  "kernelspec": {
   "display_name": "Python 3 (ipykernel)",
   "language": "python",
   "name": "python3"
  },
  "language_info": {
   "codemirror_mode": {
    "name": "ipython",
    "version": 3
   },
   "file_extension": ".py",
   "mimetype": "text/x-python",
   "name": "python",
   "nbconvert_exporter": "python",
   "pygments_lexer": "ipython3",
   "version": "3.12.4"
  }
 },
 "nbformat": 4,
 "nbformat_minor": 5
}
