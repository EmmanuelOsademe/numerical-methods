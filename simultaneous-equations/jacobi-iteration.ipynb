{
 "cells": [
  {
   "cell_type": "code",
   "execution_count": 1,
   "id": "8a88789c-90c2-48ce-942a-d9ec969eb4c0",
   "metadata": {},
   "outputs": [],
   "source": [
    "import numpy as np"
   ]
  },
  {
   "cell_type": "code",
   "execution_count": 11,
   "id": "803a3558-49eb-40e4-a820-4bb0a828877b",
   "metadata": {},
   "outputs": [
    {
     "name": "stdout",
     "output_type": "stream",
     "text": [
      "True\n",
      "False\n",
      "True\n"
     ]
    }
   ],
   "source": [
    "def isDiagonalDominantMatrix(a_matrix):\n",
    "    # Check that a square matrix is provided\n",
    "    n = len(a_matrix)\n",
    "    if a_matrix.shape[0] != a_matrix.shape[1]:\n",
    "        print(\"Coefficient matrix is not a square matrix\")\n",
    "        return False\n",
    "    else:\n",
    "        atleast_one = False\n",
    "        for i in range(n):\n",
    "            running_sum = 0\n",
    "            for j in range(n):\n",
    "                if i == j:\n",
    "                    running_sum += abs(a_matrix[i][j])\n",
    "                else:\n",
    "                    running_sum -= abs(a_matrix[i][j])\n",
    "            if running_sum < 0:\n",
    "                return False\n",
    "            if running_sum > 0:\n",
    "                atleast_one = True\n",
    "        return atleast_one\n",
    "a = np.array([[9, 2, 3], [1, 12, 9], [4, 6, 14]])\n",
    "b = np.array([[9, 2, 3], [1, 9, 9], [4, 6, 14]])\n",
    "c = np.array([[9, 6, 3], [1, 9, 8], [4, 10, -15]])\n",
    "print(isDiagonalDominantMatrix(a))\n",
    "print(isDiagonalDominantMatrix(b))\n",
    "print(isDiagonalDominantMatrix(c))"
   ]
  },
  {
   "cell_type": "code",
   "execution_count": 47,
   "id": "8ec2bbb9-8111-4bdb-9d07-fb94afe44425",
   "metadata": {},
   "outputs": [],
   "source": [
    "def jacobi_iteration(coefficient_matrix, constant_vector, tol):\n",
    "    coefficient_matrix = coefficient_matrix.astype(np.float64)\n",
    "    constant_vector = constant_vector.astype(np.float64)\n",
    "    if not isDiagonalDominantMatrix(coefficient_matrix):\n",
    "        return\n",
    "    \n",
    "    # Check that the length of the constant vector is equal to the length of the coefficient matrix\n",
    "    if len(coefficient_matrix) != len(constant_vector):\n",
    "        print(\"Matrices do not have the right dimension\")\n",
    "        return\n",
    "\n",
    "    error = 10000\n",
    "    n = len(constant_vector)\n",
    "    x = np.zeros(n)\n",
    "   \n",
    "    while error > tol:\n",
    "        xn = np.zeros(n)\n",
    "        for i in range(n):\n",
    "            tracker = constant_vector[i];\n",
    "            for j in range(n):\n",
    "                if i != j:\n",
    "                    tracker -= x[j]*coefficient_matrix[i][j]\n",
    "            previous_res = x[i]\n",
    "            xn[i] = tracker/coefficient_matrix[i][i]\n",
    "            error = abs(xn[i] - x[i])\n",
    "        x = xn\n",
    "        print(x)\n",
    "    print(f\"The following x-vector solves the simultaneous equations:\")\n",
    "    for answer in range(n):\n",
    "        print(f\"x{answer} is {x[answer]}\")"
   ]
  },
  {
   "cell_type": "code",
   "execution_count": 51,
   "id": "384b71f6-e90c-47b5-82a9-501b04a3b325",
   "metadata": {},
   "outputs": [
    {
     "name": "stdout",
     "output_type": "stream",
     "text": [
      "[0.77777778 0.16666667 0.07142857]\n",
      "[ 0.71693122  0.04828042 -0.22222222]\n",
      "[ 0.84112287  0.27358907 -0.15410053]\n",
      "[ 0.76834705  0.21214849 -0.2861447 ]\n",
      "[ 0.82601524  0.31724627 -0.23901994]\n",
      "[ 0.78695192  0.27709702 -0.30053847]\n",
      "[ 0.81638015  0.32649119 -0.2721707 ]\n",
      "[ 0.79594775  0.30276301 -0.3017477 ]\n",
      "[ 0.81107967  0.32664846 -0.28574065]\n",
      "[ 0.80043611  0.31338218 -0.30030068]\n",
      "[ 0.80823752  0.32518916 -0.29157411]\n",
      "[ 0.80270489  0.31799412 -0.29886322]\n",
      "[ 0.80673349  0.32392201 -0.29419888]\n",
      "[ 0.8038614   0.32008803 -0.29789043]\n",
      "[ 0.80594391  0.32309604 -0.2954267 ]\n",
      "[ 0.80445423  0.3210747  -0.29731085]\n",
      "[ 0.80553146  0.32261195 -0.29601894]\n",
      "[ 0.80475921  0.32155325 -0.29698554]\n",
      "[ 0.80531668  0.32234255 -0.29631117]\n",
      "[ 0.80491649  0.32179032 -0.29680872]\n",
      "[ 0.80520506  0.32219683 -0.2964577 ]\n",
      "[ 0.80499772  0.32190952 -0.29671437]\n",
      "[ 0.80514712  0.3221193  -0.296532  ]\n",
      "[ 0.80503971  0.32197007 -0.29666459]\n",
      "[ 0.80511707  0.32207847 -0.29656995]\n",
      "[ 0.80506143  0.32200104 -0.29663851]\n",
      "[ 0.80510149  0.32205709 -0.29658943]\n",
      "[ 0.80507268  0.32201695 -0.2966249 ]\n",
      "[ 0.80509342  0.32204595 -0.29659946]\n",
      "[ 0.8050785   0.32202514 -0.29661781]\n",
      "[ 0.80508924  0.32204015 -0.29660463]\n",
      "[ 0.80508151  0.32202937 -0.29661413]\n",
      "[ 0.80508707  0.32203714 -0.2966073 ]\n",
      "[ 0.80508307  0.32203156 -0.29661222]\n",
      "[ 0.80508595  0.32203558 -0.29660869]\n",
      "[ 0.80508388  0.32203269 -0.29661123]\n",
      "[ 0.80508537  0.32203477 -0.2966094 ]\n",
      "[ 0.8050843   0.32203327 -0.29661072]\n",
      "[ 0.80508507  0.32203435 -0.29660977]\n"
     ]
    },
    {
     "data": {
      "text/plain": [
       "array([ 0.80508507,  0.32203435, -0.29660977])"
      ]
     },
     "execution_count": 51,
     "metadata": {},
     "output_type": "execute_result"
    }
   ],
   "source": [
    "a = np.array([[9, 2, 3], [1, 12, 9], [4, 6, 14]])\n",
    "b = np.array([7, 2, 1])\n",
    "jacobi_iteration(a, b, 0.000001)"
   ]
  }
 ],
 "metadata": {
  "kernelspec": {
   "display_name": "Python 3 (ipykernel)",
   "language": "python",
   "name": "python3"
  },
  "language_info": {
   "codemirror_mode": {
    "name": "ipython",
    "version": 3
   },
   "file_extension": ".py",
   "mimetype": "text/x-python",
   "name": "python",
   "nbconvert_exporter": "python",
   "pygments_lexer": "ipython3",
   "version": "3.12.4"
  }
 },
 "nbformat": 4,
 "nbformat_minor": 5
}
