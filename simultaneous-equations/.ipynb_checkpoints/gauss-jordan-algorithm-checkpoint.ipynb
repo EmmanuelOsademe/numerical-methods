{
 "cells": [
  {
   "cell_type": "code",
   "execution_count": 1,
   "id": "39f57d83-f634-4066-b4cc-a8089a4faa8d",
   "metadata": {},
   "outputs": [],
   "source": [
    "#Install Required Packages\n",
    "import numpy as np"
   ]
  },
  {
   "cell_type": "code",
   "execution_count": 129,
   "id": "f0c91c7a-7d6c-440f-aa6f-e885e725be85",
   "metadata": {},
   "outputs": [],
   "source": [
    "\"\"\"\n",
    "a_matrix is the coefficient matrix. b_matrix is the constants vector\n",
    "\"\"\"\n",
    "def gauss_jordan_elimination(a_matrix, b_matrix):\n",
    "    # Validate that a_matrix is entered correctly\n",
    "    if a_matrix.shape[0] != a_matrix.shape[1]:\n",
    "        print(\"Error: Coefficients matrix must be a square matrix!\")\n",
    "        return;\n",
    "\n",
    "    # Validate b_matrix\n",
    "    if b_matrix.shape[1] > 1 or b_matrix.shape[0] != a_matrix.shape[0]:\n",
    "        print(\"Error: Constant vector incorrectly sized\")\n",
    "        return;\n",
    "\n",
    "\n",
    "    # Initialisation of necessary variables\n",
    "    n = len(b_matrix)\n",
    "    m = n - 1\n",
    "    i = 0;\n",
    "    j = i - 1;\n",
    "    x = np.zeros(n)\n",
    "    new_line = \"\\n\"\n",
    "    \n",
    "    # Create the augmented matrix using Numpy's Concatenation feature\n",
    "    augmented_matrix = np.concatenate((a_matrix, b_matrix), axis=1, dtype=float)\n",
    "    print(f\"The initial augmented matrix is : {new_line}{augmented_matrix}\")\n",
    "    print(\"Solving for the upper-triangular matrix\")\n",
    "\n",
    "    # Applying the Gaussian Elimination\n",
    "    while i < n:\n",
    "        if augmented_matrix[i][i] == 0.0: # Fail-safe to eliminate division by zero error\n",
    "            print(\"Divide by zero error\")\n",
    "            return;\n",
    "\n",
    "        for j in range(i + 1, n):\n",
    "            scaling_factor = augmented_matrix[j][i] / augmented_matrix[i][i]\n",
    "            print(scaling_factor)\n",
    "            augmented_matrix[j] = augmented_matrix[j] - (scaling_factor * augmented_matrix[i])\n",
    "            print(augmented_matrix)\n",
    "        i = i + 1;\n",
    "\n",
    "    # Backward substitution\n",
    "    # x[m] = augmented_matrix[m][n] / augmented_matrix[m][m]\n",
    "    print(augmented_matrix[m][n])\n",
    "    print(augmented_matrix[m][m])\n",
    "    print(x)"
   ]
  },
  {
   "cell_type": "code",
   "execution_count": 131,
   "id": "6beffbb6-c615-4e38-a07b-93892e7adc90",
   "metadata": {},
   "outputs": [
    {
     "name": "stdout",
     "output_type": "stream",
     "text": [
      "The initial augmented matrix is : \n",
      "[[ 1.  1.  3.  1.]\n",
      " [ 0.  1.  3.  3.]\n",
      " [-1.  3.  0.  5.]]\n",
      "Solving for the upper-triangular matrix\n",
      "0.0\n",
      "[[ 1.  1.  3.  1.]\n",
      " [ 0.  1.  3.  3.]\n",
      " [-1.  3.  0.  5.]]\n",
      "-1.0\n",
      "[[1. 1. 3. 1.]\n",
      " [0. 1. 3. 3.]\n",
      " [0. 4. 3. 6.]]\n",
      "4.0\n",
      "[[ 1.  1.  3.  1.]\n",
      " [ 0.  1.  3.  3.]\n",
      " [ 0.  0. -9. -6.]]\n",
      "-6.0\n",
      "-9.0\n",
      "[0. 0.]\n"
     ]
    }
   ],
   "source": [
    "try: \n",
    "    variable_matrix = np.array([[1, 1, 3], [0, 1, 3], [-1, 3, 0]])\n",
    "    constant_matrix = np.array([[1], [3], [5]])\n",
    "    gauss_jordan_elimination(variable_matrix, constant_matrix)\n",
    "except ValueError:\n",
    "    print(\"Please review the rows in your coefficient matrix\")\n",
    "except:\n",
    "    print(\"An error occurred\")"
   ]
  }
 ],
 "metadata": {
  "kernelspec": {
   "display_name": "Python 3 (ipykernel)",
   "language": "python",
   "name": "python3"
  },
  "language_info": {
   "codemirror_mode": {
    "name": "ipython",
    "version": 3
   },
   "file_extension": ".py",
   "mimetype": "text/x-python",
   "name": "python",
   "nbconvert_exporter": "python",
   "pygments_lexer": "ipython3",
   "version": "3.12.4"
  }
 },
 "nbformat": 4,
 "nbformat_minor": 5
}
