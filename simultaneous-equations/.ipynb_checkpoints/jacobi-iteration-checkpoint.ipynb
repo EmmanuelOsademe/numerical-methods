{
 "cells": [
  {
   "cell_type": "code",
   "execution_count": 1,
   "id": "8a88789c-90c2-48ce-942a-d9ec969eb4c0",
   "metadata": {},
   "outputs": [],
   "source": [
    "import numpy as np"
   ]
  },
  {
   "cell_type": "code",
   "execution_count": 11,
   "id": "803a3558-49eb-40e4-a820-4bb0a828877b",
   "metadata": {},
   "outputs": [
    {
     "name": "stdout",
     "output_type": "stream",
     "text": [
      "True\n",
      "False\n",
      "True\n"
     ]
    }
   ],
   "source": [
    "def isDiagonalDominantMatrix(a_matrix):\n",
    "    # Check that a square matrix is provided\n",
    "    n = len(a_matrix)\n",
    "    if a_matrix.shape[0] != a_matrix.shape[1]:\n",
    "        print(\"Coefficient matrix is not a square matrix\")\n",
    "        return False\n",
    "    else:\n",
    "        atleast_one = False\n",
    "        for i in range(n):\n",
    "            running_sum = 0\n",
    "            for j in range(n):\n",
    "                if i == j:\n",
    "                    running_sum += abs(a_matrix[i][j])\n",
    "                else:\n",
    "                    running_sum -= abs(a_matrix[i][j])\n",
    "            if running_sum < 0:\n",
    "                return False\n",
    "            if running_sum > 0:\n",
    "                atleast_one = True\n",
    "        return atleast_one\n",
    "a = np.array([[9, 2, 3], [1, 12, 9], [4, 6, 14]])\n",
    "b = np.array([[9, 2, 3], [1, 9, 9], [4, 6, 14]])\n",
    "c = np.array([[9, 6, 3], [1, 9, 8], [4, 10, -15]])\n",
    "print(isDiagonalDominantMatrix(a))\n",
    "print(isDiagonalDominantMatrix(b))\n",
    "print(isDiagonalDominantMatrix(c))"
   ]
  },
  {
   "cell_type": "code",
   "execution_count": null,
   "id": "8ec2bbb9-8111-4bdb-9d07-fb94afe44425",
   "metadata": {},
   "outputs": [],
   "source": [
    "def jacobi_iteration(coefficient_matrix, constant_vector, tol):\n",
    "    coefficient_matrix = coefficient_matrix.astype(float64)\n",
    "    constant_vector = constant_vector.astype(float64)\n",
    "    if not isDiagonalDominantMatrix(coefficient_matrix):\n",
    "        return\n",
    "    \n",
    "    # Check that the length of the constant vector is equal to the length of the coefficient matrix\n",
    "    if len(coefficient_matrix) != len(constant_vector):\n",
    "        print(\"Matrices do not have the right dimension\")\n",
    "        return\n",
    "\n",
    "    error = 10000\n",
    "    n = len(constant_vector)\n",
    "    x = np.zeros(n)\n",
    "    while error > tol:\n",
    "        for i in range(n):\n",
    "            tracker = constant_vector[i];\n",
    "            for j in range(n):\n",
    "                if i != j:\n",
    "                    tracker -= x[j]*coefficient_matrix[i][j]\n",
    "            previous_res = x[i]\n",
    "            x[i] = tracker/coefficient_matrix[i][i]\n",
    "            error = abs(previous_res - x[i])\n",
    "    return x"
   ]
  }
 ],
 "metadata": {
  "kernelspec": {
   "display_name": "Python 3 (ipykernel)",
   "language": "python",
   "name": "python3"
  },
  "language_info": {
   "codemirror_mode": {
    "name": "ipython",
    "version": 3
   },
   "file_extension": ".py",
   "mimetype": "text/x-python",
   "name": "python",
   "nbconvert_exporter": "python",
   "pygments_lexer": "ipython3",
   "version": "3.12.4"
  }
 },
 "nbformat": 4,
 "nbformat_minor": 5
}
