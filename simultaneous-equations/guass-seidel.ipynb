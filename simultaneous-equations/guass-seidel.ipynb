{
 "cells": [
  {
   "cell_type": "code",
   "execution_count": 1,
   "id": "0cb24cf9-adb3-42ab-ab2a-555de0d590c6",
   "metadata": {},
   "outputs": [],
   "source": [
    "import numpy as np"
   ]
  },
  {
   "cell_type": "code",
   "execution_count": 2,
   "id": "eaceaaff-ae6f-43a9-8496-323ff2908b37",
   "metadata": {},
   "outputs": [
    {
     "name": "stdout",
     "output_type": "stream",
     "text": [
      "True\n",
      "False\n",
      "True\n"
     ]
    }
   ],
   "source": [
    "def isDiagonalDominantMatrix(a_matrix):\n",
    "    # Check that a square matrix is provided\n",
    "    n = len(a_matrix)\n",
    "    if a_matrix.shape[0] != a_matrix.shape[1]:\n",
    "        print(\"Coefficient matrix is not a square matrix\")\n",
    "        return False\n",
    "    else:\n",
    "        atleast_one = False\n",
    "        for i in range(n):\n",
    "            running_sum = 0\n",
    "            for j in range(n):\n",
    "                if i == j:\n",
    "                    running_sum += abs(a_matrix[i][j])\n",
    "                else:\n",
    "                    running_sum -= abs(a_matrix[i][j])\n",
    "            if running_sum < 0:\n",
    "                return False\n",
    "            if running_sum > 0:\n",
    "                atleast_one = True\n",
    "        return atleast_one\n",
    "a = np.array([[9, 2, 3], [1, 12, 9], [4, 6, 14]])\n",
    "b = np.array([[9, 2, 3], [1, 9, 9], [4, 6, 14]])\n",
    "c = np.array([[9, 6, 3], [1, 9, 8], [4, 10, -15]])\n",
    "print(isDiagonalDominantMatrix(a))\n",
    "print(isDiagonalDominantMatrix(b))\n",
    "print(isDiagonalDominantMatrix(c))"
   ]
  },
  {
   "cell_type": "code",
   "execution_count": 3,
   "id": "e9a86881-8cd2-4f3d-9905-892c360454aa",
   "metadata": {},
   "outputs": [],
   "source": [
    "def jacobi_seidel(coefficient_matrix, constant_vector, tol):\n",
    "    coefficient_matrix = coefficient_matrix.astype(np.float64)\n",
    "    constant_vector = constant_vector.astype(np.float64)\n",
    "    if not isDiagonalDominantMatrix(coefficient_matrix):\n",
    "        return\n",
    "    \n",
    "    # Check that the length of the constant vector is equal to the length of the coefficient matrix\n",
    "    if len(coefficient_matrix) != len(constant_vector):\n",
    "        print(\"Matrices do not have the right dimension\")\n",
    "        return\n",
    "\n",
    "    error = 10000\n",
    "    n = len(constant_vector)\n",
    "    x = np.zeros(n)\n",
    "   \n",
    "    while error > tol:\n",
    "        for i in range(n):\n",
    "            tracker = constant_vector[i];\n",
    "            for j in range(n):\n",
    "                if i != j:\n",
    "                    tracker -= x[j]*coefficient_matrix[i][j]\n",
    "            previous_res = x[i]\n",
    "            x[i] = tracker/coefficient_matrix[i][i]\n",
    "            error = abs(previous_res - x[i])\n",
    "        print(x)\n",
    "    print(f\"The following x-vector solves the simultaneous equations:\")\n",
    "    for answer in range(n):\n",
    "        print(f\"x{answer} is {x[answer]}\")"
   ]
  },
  {
   "cell_type": "code",
   "execution_count": 4,
   "id": "d7307f46-bb3b-4b5f-aacc-657f65c80b98",
   "metadata": {},
   "outputs": [
    {
     "name": "stdout",
     "output_type": "stream",
     "text": [
      "[ 0.77777778  0.10185185 -0.19444444]\n",
      "[ 0.81995885  0.2441701  -0.26748971]\n",
      "[ 0.81268099  0.29956053 -0.28914908]\n",
      "[ 0.8075918   0.31622916 -0.29483873]\n",
      "[ 0.80578421  0.32064703 -0.29621564]\n",
      "[ 0.80526143  0.32172328 -0.29652753]\n",
      "[ 0.80512623  0.32196846 -0.29659398]\n",
      "[ 0.80509389  0.32202099 -0.29660725]\n",
      "[ 0.80508664  0.32203155 -0.29660971]\n",
      "[ 0.80508511  0.32203352 -0.29661011]\n",
      "The following x-vector solves the simultaneous equations:\n",
      "x0 is 0.8050851125471855\n",
      "x1 is 0.32203351939119335\n",
      "x2 is -0.2966101118954216\n"
     ]
    }
   ],
   "source": [
    "a = np.array([[9, 2, 3], [1, 12, 9], [4, 6, 14]])\n",
    "b = np.array([7, 2, 1])\n",
    "jacobi_seidel(a, b, 0.000001)"
   ]
  }
 ],
 "metadata": {
  "kernelspec": {
   "display_name": "Python 3 (ipykernel)",
   "language": "python",
   "name": "python3"
  },
  "language_info": {
   "codemirror_mode": {
    "name": "ipython",
    "version": 3
   },
   "file_extension": ".py",
   "mimetype": "text/x-python",
   "name": "python",
   "nbconvert_exporter": "python",
   "pygments_lexer": "ipython3",
   "version": "3.12.4"
  }
 },
 "nbformat": 4,
 "nbformat_minor": 5
}
